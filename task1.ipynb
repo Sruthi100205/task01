{
 "cells": [
  {
   "cell_type": "code",
   "execution_count": null,
   "id": "8336124e-efbc-4bbd-82f3-9033db752fbd",
   "metadata": {},
   "outputs": [],
   "source": [
    "#1.Load the Dataset"
   ]
  },
  {
   "cell_type": "code",
   "execution_count": 3,
   "id": "1859ae75-895a-463b-aa3c-955721950dab",
   "metadata": {},
   "outputs": [],
   "source": [
    "import pandas as pd\n",
    "df=pd.read_csv(\"C:/Users/Sruth/Downloads/sales_data_sample.csv\")"
   ]
  },
  {
   "cell_type": "code",
   "execution_count": null,
   "id": "e344e642-6938-4623-aa31-528a091142e7",
   "metadata": {},
   "outputs": [],
   "source": [
    "#2.Preview the Data"
   ]
  },
  {
   "cell_type": "code",
   "execution_count": 4,
   "id": "1c6b84ad-b664-4254-aa85-22d2a4d98cc2",
   "metadata": {},
   "outputs": [
    {
     "name": "stdout",
     "output_type": "stream",
     "text": [
      "   ORDERNUMBER  QUANTITYORDERED  PRICEEACH  ORDERLINENUMBER    SALES  \\\n",
      "0        10107               30      95.70                2  2871.00   \n",
      "1        10121               34      81.35                5  2765.90   \n",
      "2        10134               41      94.74                2  3884.34   \n",
      "3        10145               45      83.26                6  3746.70   \n",
      "4        10159               49     100.00               14  5205.27   \n",
      "\n",
      "          ORDERDATE   STATUS  QTR_ID  MONTH_ID  YEAR_ID  ...  \\\n",
      "0    2/24/2003 0:00  Shipped       1         2     2003  ...   \n",
      "1  05-07-2003 00:00  Shipped       2         5     2003  ...   \n",
      "2  07-01-2003 00:00  Shipped       3         7     2003  ...   \n",
      "3    8/25/2003 0:00  Shipped       3         8     2003  ...   \n",
      "4  10-10-2003 00:00  Shipped       4        10     2003  ...   \n",
      "\n",
      "                    ADDRESSLINE1  ADDRESSLINE2           CITY STATE  \\\n",
      "0        897 Long Airport Avenue           NaN            NYC    NY   \n",
      "1             59 rue de l'Abbaye           NaN          Reims   NaN   \n",
      "2  27 rue du Colonel Pierre Avia           NaN          Paris   NaN   \n",
      "3             78934 Hillside Dr.           NaN       Pasadena    CA   \n",
      "4                7734 Strong St.           NaN  San Francisco    CA   \n",
      "\n",
      "  POSTALCODE COUNTRY TERRITORY CONTACTLASTNAME CONTACTFIRSTNAME DEALSIZE  \n",
      "0      10022     USA       NaN              Yu             Kwai    Small  \n",
      "1      51100  France      EMEA         Henriot             Paul    Small  \n",
      "2      75508  France      EMEA        Da Cunha           Daniel   Medium  \n",
      "3      90003     USA       NaN           Young            Julie   Medium  \n",
      "4        NaN     USA       NaN           Brown            Julie   Medium  \n",
      "\n",
      "[5 rows x 25 columns]\n"
     ]
    }
   ],
   "source": [
    "print(df.head())"
   ]
  },
  {
   "cell_type": "code",
   "execution_count": 5,
   "id": "75fef9db-241f-4ed1-ab14-3f68410226e8",
   "metadata": {},
   "outputs": [
    {
     "name": "stdout",
     "output_type": "stream",
     "text": [
      "<class 'pandas.core.frame.DataFrame'>\n",
      "RangeIndex: 2823 entries, 0 to 2822\n",
      "Data columns (total 25 columns):\n",
      " #   Column            Non-Null Count  Dtype  \n",
      "---  ------            --------------  -----  \n",
      " 0   ORDERNUMBER       2823 non-null   int64  \n",
      " 1   QUANTITYORDERED   2823 non-null   int64  \n",
      " 2   PRICEEACH         2823 non-null   float64\n",
      " 3   ORDERLINENUMBER   2823 non-null   int64  \n",
      " 4   SALES             2823 non-null   float64\n",
      " 5   ORDERDATE         2823 non-null   object \n",
      " 6   STATUS            2823 non-null   object \n",
      " 7   QTR_ID            2823 non-null   int64  \n",
      " 8   MONTH_ID          2823 non-null   int64  \n",
      " 9   YEAR_ID           2823 non-null   int64  \n",
      " 10  PRODUCTLINE       2823 non-null   object \n",
      " 11  MSRP              2823 non-null   int64  \n",
      " 12  PRODUCTCODE       2823 non-null   object \n",
      " 13  CUSTOMERNAME      2823 non-null   object \n",
      " 14  PHONE             2823 non-null   object \n",
      " 15  ADDRESSLINE1      2823 non-null   object \n",
      " 16  ADDRESSLINE2      302 non-null    object \n",
      " 17  CITY              2823 non-null   object \n",
      " 18  STATE             1337 non-null   object \n",
      " 19  POSTALCODE        2747 non-null   object \n",
      " 20  COUNTRY           2823 non-null   object \n",
      " 21  TERRITORY         1749 non-null   object \n",
      " 22  CONTACTLASTNAME   2823 non-null   object \n",
      " 23  CONTACTFIRSTNAME  2823 non-null   object \n",
      " 24  DEALSIZE          2823 non-null   object \n",
      "dtypes: float64(2), int64(7), object(16)\n",
      "memory usage: 551.5+ KB\n",
      "None\n"
     ]
    }
   ],
   "source": [
    "print(df.info())"
   ]
  },
  {
   "cell_type": "code",
   "execution_count": 6,
   "id": "7ef0803a-eef8-48aa-b509-3134bfc772ae",
   "metadata": {},
   "outputs": [],
   "source": [
    "#3.Cleaning process(Handle Missing Values)"
   ]
  },
  {
   "cell_type": "code",
   "execution_count": 16,
   "id": "2cea8b79-d088-4f99-b255-da757f7b178d",
   "metadata": {},
   "outputs": [
    {
     "name": "stdout",
     "output_type": "stream",
     "text": [
      "ORDERNUMBER         0\n",
      "QUANTITYORDERED     0\n",
      "PRICEEACH           0\n",
      "ORDERLINENUMBER     0\n",
      "SALES               0\n",
      "ORDERDATE           0\n",
      "STATUS              0\n",
      "QTR_ID              0\n",
      "MONTH_ID            0\n",
      "YEAR_ID             0\n",
      "PRODUCTLINE         0\n",
      "MSRP                0\n",
      "PRODUCTCODE         0\n",
      "CUSTOMERNAME        0\n",
      "PHONE               0\n",
      "ADDRESSLINE1        0\n",
      "ADDRESSLINE2        0\n",
      "CITY                0\n",
      "STATE               0\n",
      "POSTALCODE          0\n",
      "COUNTRY             0\n",
      "TERRITORY           0\n",
      "CONTACTLASTNAME     0\n",
      "CONTACTFIRSTNAME    0\n",
      "DEALSIZE            0\n",
      "dtype: int64\n"
     ]
    }
   ],
   "source": [
    "print(df.isnull().sum())\n",
    "df=df.dropna()"
   ]
  },
  {
   "cell_type": "code",
   "execution_count": 9,
   "id": "ea3b1b0c-7203-4163-9988-a8ac6292bf7d",
   "metadata": {},
   "outputs": [],
   "source": [
    "#4.Remove Duplicates"
   ]
  },
  {
   "cell_type": "code",
   "execution_count": 15,
   "id": "91f004e7-3aa5-4e94-b3da-74ada589801a",
   "metadata": {},
   "outputs": [
    {
     "name": "stdout",
     "output_type": "stream",
     "text": [
      "      ORDERNUMBER  QUANTITYORDERED  PRICEEACH  ORDERLINENUMBER    SALES  \\\n",
      "10          10223               37     100.00                1  3965.66   \n",
      "21          10361               20      72.55               13  1451.00   \n",
      "40          10270               21     100.00                9  4905.39   \n",
      "47          10347               30     100.00                1  3944.70   \n",
      "55          10120               29      96.34                3  2793.86   \n",
      "...           ...              ...        ...              ...      ...   \n",
      "2667        10120               43      76.00               14  3268.00   \n",
      "2673        10223               26      67.20               15  1747.20   \n",
      "2685        10361               44     100.00               10  5001.92   \n",
      "2764        10361               35     100.00               11  4277.35   \n",
      "2791        10361               23      95.20               12  2189.60   \n",
      "\n",
      "      ORDERDATE   STATUS  QTR_ID  MONTH_ID  YEAR_ID  ...  \\\n",
      "10   2004-02-20  Shipped       1         2     2004  ...   \n",
      "21   2004-12-17  Shipped       4        12     2004  ...   \n",
      "40   2004-07-19  Shipped       3         7     2004  ...   \n",
      "47   2004-11-29  Shipped       4        11     2004  ...   \n",
      "55   2003-04-29  Shipped       2         4     2003  ...   \n",
      "...         ...      ...     ...       ...      ...  ...   \n",
      "2667 2003-04-29  Shipped       2         4     2003  ...   \n",
      "2673 2004-02-20  Shipped       1         2     2004  ...   \n",
      "2685 2004-12-17  Shipped       4        12     2004  ...   \n",
      "2764 2004-12-17  Shipped       4        12     2004  ...   \n",
      "2791 2004-12-17  Shipped       4        12     2004  ...   \n",
      "\n",
      "                                 ADDRESSLINE1  ADDRESSLINE2       CITY  \\\n",
      "10                          636 St Kilda Road       Level 3  Melbourne   \n",
      "21    Monitor Money Building, 815 Pacific Hwy       Level 6  Chatswood   \n",
      "40    Monitor Money Building, 815 Pacific Hwy       Level 6  Chatswood   \n",
      "47                          636 St Kilda Road       Level 3  Melbourne   \n",
      "55                          636 St Kilda Road       Level 3  Melbourne   \n",
      "...                                       ...           ...        ...   \n",
      "2667                        636 St Kilda Road       Level 3  Melbourne   \n",
      "2673                        636 St Kilda Road       Level 3  Melbourne   \n",
      "2685  Monitor Money Building, 815 Pacific Hwy       Level 6  Chatswood   \n",
      "2764  Monitor Money Building, 815 Pacific Hwy       Level 6  Chatswood   \n",
      "2791  Monitor Money Building, 815 Pacific Hwy       Level 6  Chatswood   \n",
      "\n",
      "         STATE POSTALCODE    COUNTRY TERRITORY CONTACTLASTNAME  \\\n",
      "10    Victoria       3004  Australia      APAC        Ferguson   \n",
      "21         NSW       2067  Australia      APAC          Huxley   \n",
      "40         NSW       2067  Australia      APAC          Huxley   \n",
      "47    Victoria       3004  Australia      APAC        Ferguson   \n",
      "55    Victoria       3004  Australia      APAC        Ferguson   \n",
      "...        ...        ...        ...       ...             ...   \n",
      "2667  Victoria       3004  Australia      APAC        Ferguson   \n",
      "2673  Victoria       3004  Australia      APAC        Ferguson   \n",
      "2685       NSW       2067  Australia      APAC          Huxley   \n",
      "2764       NSW       2067  Australia      APAC          Huxley   \n",
      "2791       NSW       2067  Australia      APAC          Huxley   \n",
      "\n",
      "     CONTACTFIRSTNAME DEALSIZE  \n",
      "10              Peter   Medium  \n",
      "21             Adrian    Small  \n",
      "40             Adrian   Medium  \n",
      "47              Peter   Medium  \n",
      "55              Peter    Small  \n",
      "...               ...      ...  \n",
      "2667            Peter   Medium  \n",
      "2673            Peter    Small  \n",
      "2685           Adrian   Medium  \n",
      "2764           Adrian   Medium  \n",
      "2791           Adrian    Small  \n",
      "\n",
      "[110 rows x 25 columns]\n"
     ]
    }
   ],
   "source": [
    "df_cleaned=df.drop_duplicates()\n",
    "print(df_cleaned)"
   ]
  },
  {
   "cell_type": "code",
   "execution_count": 12,
   "id": "7573cdbf-3d24-420c-8d70-08a8b70ed92e",
   "metadata": {},
   "outputs": [],
   "source": [
    "#5. Standardize Text Values\n",
    "# Convert date formats to a consistent type\n",
    "# Rename column headers to be clean and uniform.\n",
    "# Check and fix data types"
   ]
  },
  {
   "cell_type": "code",
   "execution_count": 13,
   "id": "02eeba01-8b63-4b28-a642-8f3bb9219ff3",
   "metadata": {},
   "outputs": [
    {
     "name": "stdout",
     "output_type": "stream",
     "text": [
      "      ordernumber  quantityordered  priceeach  orderlinenumber    sales  \\\n",
      "10          10223               37     100.00                1  3965.66   \n",
      "21          10361               20      72.55               13  1451.00   \n",
      "40          10270               21     100.00                9  4905.39   \n",
      "47          10347               30     100.00                1  3944.70   \n",
      "51          10391               24     100.00                4  2416.56   \n",
      "...           ...              ...        ...              ...      ...   \n",
      "2667        10120               43      76.00               14  3268.00   \n",
      "2673        10223               26      67.20               15  1747.20   \n",
      "2685        10361               44     100.00               10  5001.92   \n",
      "2764        10361               35     100.00               11  4277.35   \n",
      "2791        10361               23      95.20               12  2189.60   \n",
      "\n",
      "             orderdate   status  qtr_id  month_id  year_id  ...  \\\n",
      "10      2/20/2004 0:00  shipped       1         2     2004  ...   \n",
      "21     12/17/2004 0:00  shipped       4        12     2004  ...   \n",
      "40      7/19/2004 0:00  shipped       3         7     2004  ...   \n",
      "47     11/29/2004 0:00  shipped       4        11     2004  ...   \n",
      "51    03-09-2005 00:00  shipped       1         3     2005  ...   \n",
      "...                ...      ...     ...       ...      ...  ...   \n",
      "2667    4/29/2003 0:00  shipped       2         4     2003  ...   \n",
      "2673    2/20/2004 0:00  shipped       1         2     2004  ...   \n",
      "2685   12/17/2004 0:00  shipped       4        12     2004  ...   \n",
      "2764   12/17/2004 0:00  shipped       4        12     2004  ...   \n",
      "2791   12/17/2004 0:00  shipped       4        12     2004  ...   \n",
      "\n",
      "                                 addressline1  addressline2          city  \\\n",
      "10                          636 St Kilda Road       Level 3     Melbourne   \n",
      "21    Monitor Money Building, 815 Pacific Hwy       Level 6     Chatswood   \n",
      "40    Monitor Money Building, 815 Pacific Hwy       Level 6     Chatswood   \n",
      "47                          636 St Kilda Road       Level 3     Melbourne   \n",
      "51                          201 Miller Street      Level 15  North Sydney   \n",
      "...                                       ...           ...           ...   \n",
      "2667                        636 St Kilda Road       Level 3     Melbourne   \n",
      "2673                        636 St Kilda Road       Level 3     Melbourne   \n",
      "2685  Monitor Money Building, 815 Pacific Hwy       Level 6     Chatswood   \n",
      "2764  Monitor Money Building, 815 Pacific Hwy       Level 6     Chatswood   \n",
      "2791  Monitor Money Building, 815 Pacific Hwy       Level 6     Chatswood   \n",
      "\n",
      "         state postalcode    country territory contactlastname  \\\n",
      "10    Victoria       3004  Australia      APAC        Ferguson   \n",
      "21         NSW       2067  Australia      APAC          Huxley   \n",
      "40         NSW       2067  Australia      APAC          Huxley   \n",
      "47    Victoria       3004  Australia      APAC        Ferguson   \n",
      "51         NSW       2060  Australia      APAC          O'Hara   \n",
      "...        ...        ...        ...       ...             ...   \n",
      "2667  Victoria       3004  Australia      APAC        Ferguson   \n",
      "2673  Victoria       3004  Australia      APAC        Ferguson   \n",
      "2685       NSW       2067  Australia      APAC          Huxley   \n",
      "2764       NSW       2067  Australia      APAC          Huxley   \n",
      "2791       NSW       2067  Australia      APAC          Huxley   \n",
      "\n",
      "     contactfirstname dealsize  \n",
      "10              Peter   Medium  \n",
      "21             Adrian    Small  \n",
      "40             Adrian   Medium  \n",
      "47              Peter   Medium  \n",
      "51               Anna    Small  \n",
      "...               ...      ...  \n",
      "2667            Peter   Medium  \n",
      "2673            Peter    Small  \n",
      "2685           Adrian   Medium  \n",
      "2764           Adrian   Medium  \n",
      "2791           Adrian    Small  \n",
      "\n",
      "[147 rows x 25 columns]\n"
     ]
    },
    {
     "name": "stderr",
     "output_type": "stream",
     "text": [
      "C:\\Users\\Sruth\\AppData\\Local\\Temp\\ipykernel_86464\\439629008.py:1: UserWarning: Parsing dates in %m/%d/%Y %H:%M format when dayfirst=True was specified. Pass `dayfirst=False` or specify a format to silence this warning.\n",
      "  df['ORDERDATE'] = pd.to_datetime(df['ORDERDATE'],errors='coerce',dayfirst=True)\n"
     ]
    }
   ],
   "source": [
    "df['ORDERDATE'] = pd.to_datetime(df['ORDERDATE'],errors='coerce',dayfirst=True)\n",
    "df_cleaned['STATUS'] = df_cleaned['STATUS'].str.strip().str.lower()\n",
    "df_cleaned['COUNTRY'] = df_cleaned['COUNTRY'].str.strip().str.title()\n",
    "df_cleaned['DEALSIZE'] = df_cleaned['DEALSIZE'].str.strip().str.title()\n",
    "df_cleaned.columns = df_cleaned.columns.str.strip().str.lower().str.replace(\" \", \"_\")\n",
    "if df_cleaned['postalcode'].dtype != 'object':\n",
    "  df_cleaned['postalcode'] = df_cleaned['postalcode'].astype(str)\n",
    "print(df_cleaned)"
   ]
  },
  {
   "cell_type": "code",
   "execution_count": null,
   "id": "1d0b2923-403b-4370-ba1f-9b1af867f344",
   "metadata": {},
   "outputs": [],
   "source": []
  }
 ],
 "metadata": {
  "kernelspec": {
   "display_name": "Python 3 (ipykernel)",
   "language": "python",
   "name": "python3"
  },
  "language_info": {
   "codemirror_mode": {
    "name": "ipython",
    "version": 3
   },
   "file_extension": ".py",
   "mimetype": "text/x-python",
   "name": "python",
   "nbconvert_exporter": "python",
   "pygments_lexer": "ipython3",
   "version": "3.11.7"
  }
 },
 "nbformat": 4,
 "nbformat_minor": 5
}
